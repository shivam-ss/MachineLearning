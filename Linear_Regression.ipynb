{
  "nbformat": 4,
  "nbformat_minor": 0,
  "metadata": {
    "colab": {
      "name": "Linear Regression.ipynb",
      "provenance": [],
      "collapsed_sections": [],
      "authorship_tag": "ABX9TyPkCht16zrVXbo66uS//sXC",
      "include_colab_link": true
    },
    "kernelspec": {
      "name": "python3",
      "display_name": "Python 3"
    }
  },
  "cells": [
    {
      "cell_type": "markdown",
      "metadata": {
        "id": "view-in-github",
        "colab_type": "text"
      },
      "source": [
        "<a href=\"https://colab.research.google.com/github/shivam-ss/MachineLearning/blob/master/Linear_Regression.ipynb\" target=\"_parent\"><img src=\"https://colab.research.google.com/assets/colab-badge.svg\" alt=\"Open In Colab\"/></a>"
      ]
    },
    {
      "cell_type": "code",
      "metadata": {
        "id": "-aRshMSg8Pa7",
        "colab_type": "code",
        "colab": {}
      },
      "source": [
        "%matplotlib inline\n",
        "import numpy as np\n",
        "import pandas as pd\n",
        "import matplotlib.pyplot as plt\n",
        "plt.rcParams['figure.figsize'] =(20.0,10.0)\n"
      ],
      "execution_count": 2,
      "outputs": []
    },
    {
      "cell_type": "code",
      "metadata": {
        "id": "ZnUCE44X9GlC",
        "colab_type": "code",
        "colab": {
          "base_uri": "https://localhost:8080/",
          "height": 221
        },
        "outputId": "565b88cb-034e-4db9-8338-edc082982f02"
      },
      "source": [
        "data = pd.read_csv(\"headbrain.csv\")\n",
        "print(data.shape)\n",
        "data.head()"
      ],
      "execution_count": 4,
      "outputs": [
        {
          "output_type": "stream",
          "text": [
            "(237, 4)\n"
          ],
          "name": "stdout"
        },
        {
          "output_type": "execute_result",
          "data": {
            "text/html": [
              "<div>\n",
              "<style scoped>\n",
              "    .dataframe tbody tr th:only-of-type {\n",
              "        vertical-align: middle;\n",
              "    }\n",
              "\n",
              "    .dataframe tbody tr th {\n",
              "        vertical-align: top;\n",
              "    }\n",
              "\n",
              "    .dataframe thead th {\n",
              "        text-align: right;\n",
              "    }\n",
              "</style>\n",
              "<table border=\"1\" class=\"dataframe\">\n",
              "  <thead>\n",
              "    <tr style=\"text-align: right;\">\n",
              "      <th></th>\n",
              "      <th>Gender</th>\n",
              "      <th>Age Range</th>\n",
              "      <th>Head Size(cm^3)</th>\n",
              "      <th>Brain Weight(grams)</th>\n",
              "    </tr>\n",
              "  </thead>\n",
              "  <tbody>\n",
              "    <tr>\n",
              "      <th>0</th>\n",
              "      <td>1</td>\n",
              "      <td>1</td>\n",
              "      <td>4512</td>\n",
              "      <td>1530</td>\n",
              "    </tr>\n",
              "    <tr>\n",
              "      <th>1</th>\n",
              "      <td>1</td>\n",
              "      <td>1</td>\n",
              "      <td>3738</td>\n",
              "      <td>1297</td>\n",
              "    </tr>\n",
              "    <tr>\n",
              "      <th>2</th>\n",
              "      <td>1</td>\n",
              "      <td>1</td>\n",
              "      <td>4261</td>\n",
              "      <td>1335</td>\n",
              "    </tr>\n",
              "    <tr>\n",
              "      <th>3</th>\n",
              "      <td>1</td>\n",
              "      <td>1</td>\n",
              "      <td>3777</td>\n",
              "      <td>1282</td>\n",
              "    </tr>\n",
              "    <tr>\n",
              "      <th>4</th>\n",
              "      <td>1</td>\n",
              "      <td>1</td>\n",
              "      <td>4177</td>\n",
              "      <td>1590</td>\n",
              "    </tr>\n",
              "  </tbody>\n",
              "</table>\n",
              "</div>"
            ],
            "text/plain": [
              "   Gender  Age Range  Head Size(cm^3)  Brain Weight(grams)\n",
              "0       1          1             4512                 1530\n",
              "1       1          1             3738                 1297\n",
              "2       1          1             4261                 1335\n",
              "3       1          1             3777                 1282\n",
              "4       1          1             4177                 1590"
            ]
          },
          "metadata": {
            "tags": []
          },
          "execution_count": 4
        }
      ]
    },
    {
      "cell_type": "code",
      "metadata": {
        "id": "o7Iyt3ZhaeR6",
        "colab_type": "code",
        "colab": {}
      },
      "source": [
        ""
      ],
      "execution_count": null,
      "outputs": []
    },
    {
      "cell_type": "code",
      "metadata": {
        "id": "lGcKikM8Uz1X",
        "colab_type": "code",
        "colab": {}
      },
      "source": [
        "#we will collect x and y, x will be HeadSize, y will be brain weight\n",
        "X=data[\"Head Size(cm^3)\"].values\n",
        "Y=data[\"Brain Weight(grams)\"].values"
      ],
      "execution_count": 5,
      "outputs": []
    },
    {
      "cell_type": "code",
      "metadata": {
        "id": "vYbBiXTGVZUl",
        "colab_type": "code",
        "colab": {
          "base_uri": "https://localhost:8080/",
          "height": 34
        },
        "outputId": "c16d8eff-0df2-47fd-dcf1-2939da00ad4a"
      },
      "source": [
        "#finding mean, x bar and y bar\n",
        "mean_x=np.mean(X)\n",
        "mean_y=np.mean(Y)\n",
        "\n",
        "#n = total number of values\n",
        "n=len(X)\n",
        "\n",
        "#calculating values for the equation of m // see notes\n",
        "\n",
        "numerator=0\n",
        "denominator=0\n",
        "\n",
        "for i in range(n):\n",
        "  numerator+=(X[i]-mean_x)*(Y[i]-mean_y)\n",
        "  denominator+=(X[i]-mean_x)**2\n",
        "\n",
        "b1=numerator/denominator\n",
        "b0=mean_y - (b1*mean_x)\n",
        "\n",
        "#b1 and b0 are y=mx+c, compare accordingly\n",
        "\n",
        "print(b1,b0)"
      ],
      "execution_count": 7,
      "outputs": [
        {
          "output_type": "stream",
          "text": [
            "0.26342933948939945 325.57342104944223\n"
          ],
          "name": "stdout"
        }
      ]
    },
    {
      "cell_type": "code",
      "metadata": {
        "id": "0H4ZNTq1XoWH",
        "colab_type": "code",
        "colab": {
          "base_uri": "https://localhost:8080/",
          "height": 623
        },
        "outputId": "8d0a3e84-39e7-482f-8a83-dda659e298a6"
      },
      "source": [
        "#plotting these values\n",
        "max_x=np.max(X)+100\n",
        "min_x=np.min(X)-100\n",
        "\n",
        "#calculating line values of x and y\n",
        "x=np.linspace(min_x,max_x,1000)\n",
        "y= b1*x + b0\n",
        "\n",
        "#plotting the line\n",
        "plt.plot(x,y,color=\"#58b970\", label=\"Regression Form\")\n",
        "\n",
        "#plotting the scatter points\n",
        "plt.scatter(X,Y,color=\"#ef6423\", label=\"scatter plot\")\n",
        "\n",
        "plt.xlabel(\"Head size in cm^3\")\n",
        "plt.ylabel(\"Brain weight in grams\")\n",
        "plt.legend()\n",
        "plt.show"
      ],
      "execution_count": 9,
      "outputs": [
        {
          "output_type": "execute_result",
          "data": {
            "text/plain": [
              "<function matplotlib.pyplot.show>"
            ]
          },
          "metadata": {
            "tags": []
          },
          "execution_count": 9
        },
        {
          "output_type": "display_data",
          "data": {
            "image/png": "[encoded data removed]",
            "text/plain": [
              "<Figure size 1440x720 with 1 Axes>"
            ]
          },
          "metadata": {
            "tags": [],
            "needs_background": "light"
          }
        }
      ]
    },
    {
      "cell_type": "code",
      "metadata": {
        "id": "UHbZDxF7WE_6",
        "colab_type": "code",
        "colab": {
          "base_uri": "https://localhost:8080/",
          "height": 34
        },
        "outputId": "180cc6da-8be7-4792-c4e0-a1f5daf379f3"
      },
      "source": [
        "#calculating the r square value\n",
        "ss_t=0\n",
        "ss_r=0\n",
        "for i in range(n):\n",
        "  y_pred=b0+b1*X[i]\n",
        "  ss_t+=(Y[i]-mean_y)**2\n",
        "  ss_r+=(Y[i]-y_pred)**2\n",
        "\n",
        "r2=1-(ss_r/ss_t)\n",
        "print(r2)\n"
      ],
      "execution_count": 11,
      "outputs": [
        {
          "output_type": "stream",
          "text": [
            "0.6393117199570003\n"
          ],
          "name": "stdout"
        }
      ]
    }
  ]
}